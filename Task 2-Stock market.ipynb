{
 "cells": [
  {
   "cell_type": "markdown",
   "id": "867c0567",
   "metadata": {},
   "source": [
    "# ARSHIA J S"
   ]
  },
  {
   "cell_type": "markdown",
   "id": "b817b055",
   "metadata": {},
   "source": [
    "# Let's Grow More(LGMVIP) - \"DATA SCIENCE INTERN\""
   ]
  },
  {
   "cell_type": "markdown",
   "id": "ed4a010e",
   "metadata": {},
   "source": [
    "# BEGINNER LEVEL TASK"
   ]
  },
  {
   "cell_type": "markdown",
   "id": "01f25ae2",
   "metadata": {},
   "source": [
    "# TASK-2 : Stock Market Prediction And Forecasting Using Stacked LSTM"
   ]
  },
  {
   "cell_type": "markdown",
   "id": "1014b6c2",
   "metadata": {},
   "source": [
    "# DatasetLink : https://raw.githubusercontent.com/mwitiderrick/stockprice/master/NSE-TATAGLOBAL.csv"
   ]
  },
  {
   "cell_type": "markdown",
   "id": "5e31e0ea",
   "metadata": {},
   "source": [
    "# "
   ]
  },
  {
   "cell_type": "markdown",
   "id": "b9350a12",
   "metadata": {},
   "source": [
    "Importing modules"
   ]
  },
  {
   "cell_type": "code",
   "execution_count": 1,
   "id": "43fd7e36",
   "metadata": {},
   "outputs": [],
   "source": [
    "import math\n",
    "import keras\n",
    "import pandas as pd\n",
    "import numpy as np\n",
    "import matplotlib.pyplot as plt\n",
    "from keras.models import Sequential\n",
    "from keras.layers import Dense\n",
    "from keras.layers import LSTM\n",
    "from keras.layers import Dropout\n",
    "from keras.layers import *\n",
    "from sklearn.preprocessing import MinMaxScaler\n",
    "from sklearn.metrics import mean_squared_error\n",
    "from sklearn.metrics import mean_absolute_error\n",
    "from sklearn.model_selection import train_test_split\n",
    "from keras.callbacks import EarlyStopping"
   ]
  },
  {
   "cell_type": "code",
   "execution_count": 3,
   "id": "8465093c",
   "metadata": {},
   "outputs": [
    {
     "data": {
      "text/html": [
       "<div>\n",
       "<style scoped>\n",
       "    .dataframe tbody tr th:only-of-type {\n",
       "        vertical-align: middle;\n",
       "    }\n",
       "\n",
       "    .dataframe tbody tr th {\n",
       "        vertical-align: top;\n",
       "    }\n",
       "\n",
       "    .dataframe thead th {\n",
       "        text-align: right;\n",
       "    }\n",
       "</style>\n",
       "<table border=\"1\" class=\"dataframe\">\n",
       "  <thead>\n",
       "    <tr style=\"text-align: right;\">\n",
       "      <th></th>\n",
       "      <th>Date</th>\n",
       "      <th>Open</th>\n",
       "      <th>High</th>\n",
       "      <th>Low</th>\n",
       "      <th>Last</th>\n",
       "      <th>Close</th>\n",
       "      <th>Total Trade Quantity</th>\n",
       "      <th>Turnover (Lacs)</th>\n",
       "    </tr>\n",
       "  </thead>\n",
       "  <tbody>\n",
       "    <tr>\n",
       "      <th>0</th>\n",
       "      <td>28-09-2018</td>\n",
       "      <td>234.05</td>\n",
       "      <td>235.95</td>\n",
       "      <td>230.20</td>\n",
       "      <td>233.50</td>\n",
       "      <td>233.75</td>\n",
       "      <td>3069914</td>\n",
       "      <td>7162.35</td>\n",
       "    </tr>\n",
       "    <tr>\n",
       "      <th>1</th>\n",
       "      <td>27-09-2018</td>\n",
       "      <td>234.55</td>\n",
       "      <td>236.80</td>\n",
       "      <td>231.10</td>\n",
       "      <td>233.80</td>\n",
       "      <td>233.25</td>\n",
       "      <td>5082859</td>\n",
       "      <td>11859.95</td>\n",
       "    </tr>\n",
       "    <tr>\n",
       "      <th>2</th>\n",
       "      <td>26-09-2018</td>\n",
       "      <td>240.00</td>\n",
       "      <td>240.00</td>\n",
       "      <td>232.50</td>\n",
       "      <td>235.00</td>\n",
       "      <td>234.25</td>\n",
       "      <td>2240909</td>\n",
       "      <td>5248.60</td>\n",
       "    </tr>\n",
       "    <tr>\n",
       "      <th>3</th>\n",
       "      <td>25-09-2018</td>\n",
       "      <td>233.30</td>\n",
       "      <td>236.75</td>\n",
       "      <td>232.00</td>\n",
       "      <td>236.25</td>\n",
       "      <td>236.10</td>\n",
       "      <td>2349368</td>\n",
       "      <td>5503.90</td>\n",
       "    </tr>\n",
       "    <tr>\n",
       "      <th>4</th>\n",
       "      <td>24-09-2018</td>\n",
       "      <td>233.55</td>\n",
       "      <td>239.20</td>\n",
       "      <td>230.75</td>\n",
       "      <td>234.00</td>\n",
       "      <td>233.30</td>\n",
       "      <td>3423509</td>\n",
       "      <td>7999.55</td>\n",
       "    </tr>\n",
       "  </tbody>\n",
       "</table>\n",
       "</div>"
      ],
      "text/plain": [
       "         Date    Open    High     Low    Last   Close  Total Trade Quantity  \\\n",
       "0  28-09-2018  234.05  235.95  230.20  233.50  233.75               3069914   \n",
       "1  27-09-2018  234.55  236.80  231.10  233.80  233.25               5082859   \n",
       "2  26-09-2018  240.00  240.00  232.50  235.00  234.25               2240909   \n",
       "3  25-09-2018  233.30  236.75  232.00  236.25  236.10               2349368   \n",
       "4  24-09-2018  233.55  239.20  230.75  234.00  233.30               3423509   \n",
       "\n",
       "   Turnover (Lacs)  \n",
       "0          7162.35  \n",
       "1         11859.95  \n",
       "2          5248.60  \n",
       "3          5503.90  \n",
       "4          7999.55  "
      ]
     },
     "execution_count": 3,
     "metadata": {},
     "output_type": "execute_result"
    }
   ],
   "source": [
    "stock_data = pd.read_csv(\"NSE-TATAGLOBAL.csv\")\n",
    "stock_data.head()"
   ]
  },
  {
   "cell_type": "markdown",
   "id": "1c7b66fa",
   "metadata": {},
   "source": [
    "Checking the null value in dataset"
   ]
  },
  {
   "cell_type": "code",
   "execution_count": 4,
   "id": "e585a59c",
   "metadata": {},
   "outputs": [
    {
     "data": {
      "text/plain": [
       "Date                    0\n",
       "Open                    0\n",
       "High                    0\n",
       "Low                     0\n",
       "Last                    0\n",
       "Close                   0\n",
       "Total Trade Quantity    0\n",
       "Turnover (Lacs)         0\n",
       "dtype: int64"
      ]
     },
     "execution_count": 4,
     "metadata": {},
     "output_type": "execute_result"
    }
   ],
   "source": [
    "stock_data.isnull().sum()"
   ]
  },
  {
   "cell_type": "markdown",
   "id": "9249dced",
   "metadata": {},
   "source": [
    "Plotting close price"
   ]
  },
  {
   "cell_type": "code",
   "execution_count": 5,
   "id": "db4ffb6a",
   "metadata": {},
   "outputs": [
    {
     "data": {
      "image/png": "[encoded data removed]",
      "text/plain": [
       "<Figure size 936x432 with 1 Axes>"
      ]
     },
     "metadata": {
      "needs_background": "light"
     },
     "output_type": "display_data"
    }
   ],
   "source": [
    "plt.figure(figsize=(13,6))\n",
    "plt.grid(True)\n",
    "plt.xlabel('Dates')\n",
    "plt.ylabel('Close Prices')\n",
    "plt.plot(stock_data['Close'])\n",
    "plt.title('Altaba Inc. closing price')\n",
    "plt.show()  "
   ]
  },
  {
   "cell_type": "code",
   "execution_count": 6,
   "id": "b2abbb6d",
   "metadata": {},
   "outputs": [
    {
     "name": "stdout",
     "output_type": "stream",
     "text": [
      "<class 'pandas.core.frame.DataFrame'>\n",
      "RangeIndex: 2035 entries, 0 to 2034\n",
      "Data columns (total 8 columns):\n",
      " #   Column                Non-Null Count  Dtype  \n",
      "---  ------                --------------  -----  \n",
      " 0   Date                  2035 non-null   object \n",
      " 1   Open                  2035 non-null   float64\n",
      " 2   High                  2035 non-null   float64\n",
      " 3   Low                   2035 non-null   float64\n",
      " 4   Last                  2035 non-null   float64\n",
      " 5   Close                 2035 non-null   float64\n",
      " 6   Total Trade Quantity  2035 non-null   int64  \n",
      " 7   Turnover (Lacs)       2035 non-null   float64\n",
      "dtypes: float64(6), int64(1), object(1)\n",
      "memory usage: 127.3+ KB\n"
     ]
    }
   ],
   "source": [
    "stock_data.info()"
   ]
  },
  {
   "cell_type": "markdown",
   "id": "5856aea3",
   "metadata": {},
   "source": [
    "Feature Scaling"
   ]
  },
  {
   "cell_type": "markdown",
   "id": "875dcb97",
   "metadata": {},
   "source": [
    "Splitting the data into train and test set"
   ]
  },
  {
   "cell_type": "code",
   "execution_count": 7,
   "id": "3cb84957",
   "metadata": {},
   "outputs": [],
   "source": [
    "train_set = stock_data.iloc[:500, 1:2].values\n",
    "test_set = stock_data.iloc[500:, 1:2].values"
   ]
  },
  {
   "cell_type": "code",
   "execution_count": 8,
   "id": "57fdd24a",
   "metadata": {},
   "outputs": [],
   "source": [
    "sc = MinMaxScaler(feature_range = (0, 1))\n",
    "train_set = sc.fit_transform(train_set)"
   ]
  },
  {
   "cell_type": "markdown",
   "id": "c471e003",
   "metadata": {},
   "source": [
    "Creating Data with Timesteps"
   ]
  },
  {
   "cell_type": "code",
   "execution_count": 9,
   "id": "296606f2",
   "metadata": {},
   "outputs": [],
   "source": [
    "X_train = []\n",
    "y_train = []\n",
    "for i in range(60, 500):\n",
    "    X_train.append(train_set[i-60:i, 0])\n",
    "    y_train.append(train_set[i, 0])\n",
    "X_train, y_train = np.array(X_train), np.array(y_train)\n",
    "\n",
    "X_train = np.reshape(X_train, (X_train.shape[0], X_train.shape[1], 1))"
   ]
  },
  {
   "cell_type": "markdown",
   "id": "24b250c0",
   "metadata": {},
   "source": [
    "Building the LSTM"
   ]
  },
  {
   "cell_type": "code",
   "execution_count": 10,
   "id": "aefba778",
   "metadata": {},
   "outputs": [
    {
     "name": "stdout",
     "output_type": "stream",
     "text": [
      "Epoch 1/100\n",
      "14/14 [==============================] - 27s 197ms/step - loss: 0.1927\n",
      "Epoch 2/100\n",
      "14/14 [==============================] - 3s 177ms/step - loss: 0.0752\n",
      "Epoch 3/100\n",
      "14/14 [==============================] - 2s 161ms/step - loss: 0.0350\n",
      "Epoch 4/100\n",
      "14/14 [==============================] - 2s 156ms/step - loss: 0.0255\n",
      "Epoch 5/100\n",
      "14/14 [==============================] - 3s 192ms/step - loss: 0.0204\n",
      "Epoch 6/100\n",
      "14/14 [==============================] - 2s 171ms/step - loss: 0.0179\n",
      "Epoch 7/100\n",
      "14/14 [==============================] - 2s 169ms/step - loss: 0.0159\n",
      "Epoch 8/100\n",
      "14/14 [==============================] - 2s 166ms/step - loss: 0.0167\n",
      "Epoch 9/100\n",
      "14/14 [==============================] - 2s 163ms/step - loss: 0.0159\n",
      "Epoch 10/100\n",
      "14/14 [==============================] - 3s 183ms/step - loss: 0.0127\n",
      "Epoch 11/100\n",
      "14/14 [==============================] - 2s 176ms/step - loss: 0.0126\n",
      "Epoch 12/100\n",
      "14/14 [==============================] - 2s 162ms/step - loss: 0.0124\n",
      "Epoch 13/100\n",
      "14/14 [==============================] - 3s 179ms/step - loss: 0.0109\n",
      "Epoch 14/100\n",
      "14/14 [==============================] - 2s 163ms/step - loss: 0.0106\n",
      "Epoch 15/100\n",
      "14/14 [==============================] - 2s 161ms/step - loss: 0.0107\n",
      "Epoch 16/100\n",
      "14/14 [==============================] - 2s 154ms/step - loss: 0.0102\n",
      "Epoch 17/100\n",
      "14/14 [==============================] - 2s 166ms/step - loss: 0.0094\n",
      "Epoch 18/100\n",
      "14/14 [==============================] - 2s 173ms/step - loss: 0.0098\n",
      "Epoch 19/100\n",
      "14/14 [==============================] - 3s 178ms/step - loss: 0.0096\n",
      "Epoch 20/100\n",
      "14/14 [==============================] - 3s 188ms/step - loss: 0.0098\n",
      "Epoch 21/100\n",
      "14/14 [==============================] - 3s 187ms/step - loss: 0.0082\n",
      "Epoch 22/100\n",
      "14/14 [==============================] - 2s 170ms/step - loss: 0.0087\n",
      "Epoch 23/100\n",
      "14/14 [==============================] - 2s 168ms/step - loss: 0.0081\n",
      "Epoch 24/100\n",
      "14/14 [==============================] - 2s 164ms/step - loss: 0.0084\n",
      "Epoch 25/100\n",
      "14/14 [==============================] - 3s 185ms/step - loss: 0.0082\n",
      "Epoch 26/100\n",
      "14/14 [==============================] - 3s 190ms/step - loss: 0.0082\n",
      "Epoch 27/100\n",
      "14/14 [==============================] - 3s 201ms/step - loss: 0.0067\n",
      "Epoch 28/100\n",
      "14/14 [==============================] - 2s 165ms/step - loss: 0.0064\n",
      "Epoch 29/100\n",
      "14/14 [==============================] - 2s 172ms/step - loss: 0.0065\n",
      "Epoch 30/100\n",
      "14/14 [==============================] - 2s 175ms/step - loss: 0.0065\n",
      "Epoch 31/100\n",
      "14/14 [==============================] - 3s 192ms/step - loss: 0.0064\n",
      "Epoch 32/100\n",
      "14/14 [==============================] - 3s 211ms/step - loss: 0.0065\n",
      "Epoch 33/100\n",
      "14/14 [==============================] - 3s 188ms/step - loss: 0.0065\n",
      "Epoch 34/100\n",
      "14/14 [==============================] - 3s 182ms/step - loss: 0.0062\n",
      "Epoch 35/100\n",
      "14/14 [==============================] - 2s 179ms/step - loss: 0.0057\n",
      "Epoch 36/100\n",
      "14/14 [==============================] - 2s 166ms/step - loss: 0.0066\n",
      "Epoch 37/100\n",
      "14/14 [==============================] - 3s 207ms/step - loss: 0.0054\n",
      "Epoch 38/100\n",
      "14/14 [==============================] - 3s 215ms/step - loss: 0.0069\n",
      "Epoch 39/100\n",
      "14/14 [==============================] - 3s 191ms/step - loss: 0.0067\n",
      "Epoch 40/100\n",
      "14/14 [==============================] - 3s 186ms/step - loss: 0.0065\n",
      "Epoch 41/100\n",
      "14/14 [==============================] - 2s 165ms/step - loss: 0.0054\n",
      "Epoch 42/100\n",
      "14/14 [==============================] - 2s 153ms/step - loss: 0.0052\n",
      "Epoch 43/100\n",
      "14/14 [==============================] - 2s 180ms/step - loss: 0.0050\n",
      "Epoch 44/100\n",
      "14/14 [==============================] - 3s 220ms/step - loss: 0.0059\n",
      "Epoch 45/100\n",
      "14/14 [==============================] - 3s 219ms/step - loss: 0.0056\n",
      "Epoch 46/100\n",
      "14/14 [==============================] - 3s 179ms/step - loss: 0.0053\n",
      "Epoch 47/100\n",
      "14/14 [==============================] - 3s 166ms/step - loss: 0.0049\n",
      "Epoch 48/100\n",
      "14/14 [==============================] - 2s 174ms/step - loss: 0.0054\n",
      "Epoch 49/100\n",
      "14/14 [==============================] - 3s 190ms/step - loss: 0.0051\n",
      "Epoch 50/100\n",
      "14/14 [==============================] - 4s 261ms/step - loss: 0.0053\n",
      "Epoch 51/100\n",
      "14/14 [==============================] - 3s 179ms/step - loss: 0.0052\n",
      "Epoch 52/100\n",
      "14/14 [==============================] - 3s 217ms/step - loss: 0.0049\n",
      "Epoch 53/100\n",
      "14/14 [==============================] - 3s 244ms/step - loss: 0.0051\n",
      "Epoch 54/100\n",
      "14/14 [==============================] - 3s 242ms/step - loss: 0.0050\n",
      "Epoch 55/100\n",
      "14/14 [==============================] - 4s 266ms/step - loss: 0.0048\n",
      "Epoch 56/100\n",
      "14/14 [==============================] - 3s 208ms/step - loss: 0.0050\n",
      "Epoch 57/100\n",
      "14/14 [==============================] - 3s 206ms/step - loss: 0.0050\n",
      "Epoch 58/100\n",
      "14/14 [==============================] - 2s 165ms/step - loss: 0.0046\n",
      "Epoch 59/100\n",
      "14/14 [==============================] - 2s 169ms/step - loss: 0.0042\n",
      "Epoch 60/100\n",
      "14/14 [==============================] - 3s 206ms/step - loss: 0.0040\n",
      "Epoch 61/100\n",
      "14/14 [==============================] - 3s 206ms/step - loss: 0.0051\n",
      "Epoch 62/100\n",
      "14/14 [==============================] - 3s 192ms/step - loss: 0.0049\n",
      "Epoch 63/100\n",
      "14/14 [==============================] - 3s 181ms/step - loss: 0.0044\n",
      "Epoch 64/100\n",
      "14/14 [==============================] - 2s 165ms/step - loss: 0.0048\n",
      "Epoch 65/100\n",
      "14/14 [==============================] - 2s 158ms/step - loss: 0.0042\n",
      "Epoch 66/100\n",
      "14/14 [==============================] - 3s 199ms/step - loss: 0.0042\n",
      "Epoch 67/100\n",
      "14/14 [==============================] - 4s 262ms/step - loss: 0.0044\n",
      "Epoch 68/100\n",
      "14/14 [==============================] - 3s 204ms/step - loss: 0.0050\n",
      "Epoch 69/100\n",
      "14/14 [==============================] - 2s 157ms/step - loss: 0.0043\n",
      "Epoch 70/100\n",
      "14/14 [==============================] - 2s 154ms/step - loss: 0.0045\n",
      "Epoch 71/100\n",
      "14/14 [==============================] - 2s 174ms/step - loss: 0.0040\n",
      "Epoch 72/100\n",
      "14/14 [==============================] - 3s 209ms/step - loss: 0.0041\n",
      "Epoch 73/100\n",
      "14/14 [==============================] - 2s 169ms/step - loss: 0.0041\n",
      "Epoch 74/100\n",
      "14/14 [==============================] - 3s 183ms/step - loss: 0.0044\n",
      "Epoch 75/100\n",
      "14/14 [==============================] - 3s 199ms/step - loss: 0.0041\n",
      "Epoch 76/100\n",
      "14/14 [==============================] - 2s 153ms/step - loss: 0.0039\n",
      "Epoch 77/100\n",
      "14/14 [==============================] - 2s 144ms/step - loss: 0.0036\n",
      "Epoch 78/100\n",
      "14/14 [==============================] - 3s 185ms/step - loss: 0.0037\n",
      "Epoch 79/100\n",
      "14/14 [==============================] - 2s 161ms/step - loss: 0.0040\n",
      "Epoch 80/100\n",
      "14/14 [==============================] - 3s 180ms/step - loss: 0.0034\n",
      "Epoch 81/100\n",
      "14/14 [==============================] - 2s 158ms/step - loss: 0.0039\n",
      "Epoch 82/100\n",
      "14/14 [==============================] - 2s 152ms/step - loss: 0.0038\n",
      "Epoch 83/100\n",
      "14/14 [==============================] - 2s 145ms/step - loss: 0.0034\n",
      "Epoch 84/100\n",
      "14/14 [==============================] - 2s 146ms/step - loss: 0.0036\n",
      "Epoch 85/100\n",
      "14/14 [==============================] - 2s 175ms/step - loss: 0.0038\n",
      "Epoch 86/100\n",
      "14/14 [==============================] - 3s 208ms/step - loss: 0.0034\n",
      "Epoch 87/100\n",
      "14/14 [==============================] - 3s 207ms/step - loss: 0.0033\n",
      "Epoch 88/100\n",
      "14/14 [==============================] - 3s 181ms/step - loss: 0.0038\n",
      "Epoch 89/100\n",
      "14/14 [==============================] - 2s 151ms/step - loss: 0.0035\n",
      "Epoch 90/100\n",
      "14/14 [==============================] - 2s 155ms/step - loss: 0.0035\n",
      "Epoch 91/100\n",
      "14/14 [==============================] - 2s 149ms/step - loss: 0.0032\n",
      "Epoch 92/100\n",
      "14/14 [==============================] - 2s 177ms/step - loss: 0.0033\n",
      "Epoch 93/100\n",
      "14/14 [==============================] - 3s 178ms/step - loss: 0.0033\n",
      "Epoch 94/100\n",
      "14/14 [==============================] - 3s 180ms/step - loss: 0.0034\n",
      "Epoch 95/100\n",
      "14/14 [==============================] - 3s 183ms/step - loss: 0.0034\n",
      "Epoch 96/100\n",
      "14/14 [==============================] - 2s 146ms/step - loss: 0.0034\n",
      "Epoch 97/100\n",
      "14/14 [==============================] - 2s 144ms/step - loss: 0.0027\n",
      "Epoch 98/100\n",
      "14/14 [==============================] - 3s 183ms/step - loss: 0.0035\n",
      "Epoch 99/100\n",
      "14/14 [==============================] - 3s 205ms/step - loss: 0.0033\n",
      "Epoch 100/100\n",
      "14/14 [==============================] - 3s 179ms/step - loss: 0.0034\n"
     ]
    },
    {
     "data": {
      "text/plain": [
       "<keras.src.callbacks.History at 0x16a77aa16a0>"
      ]
     },
     "execution_count": 10,
     "metadata": {},
     "output_type": "execute_result"
    }
   ],
   "source": [
    "regressor = Sequential()\n",
    "\n",
    "regressor.add(LSTM(units = 50, return_sequences = True, input_shape = (X_train.shape[1], 1)))\n",
    "regressor.add(Dropout(0.2))\n",
    "\n",
    "regressor.add(LSTM(units = 50, return_sequences = True))\n",
    "regressor.add(Dropout(0.2))\n",
    "\n",
    "regressor.add(LSTM(units = 50, return_sequences = True))\n",
    "regressor.add(Dropout(0.2))\n",
    "\n",
    "regressor.add(LSTM(units = 50))\n",
    "regressor.add(Dropout(0.2))\n",
    "\n",
    "regressor.add(Dense(units = 50))\n",
    "\n",
    "regressor.compile(optimizer = 'adam', loss = 'mean_squared_error')\n",
    "\n",
    "regressor.fit(X_train, y_train, epochs = 100, batch_size = 32)"
   ]
  },
  {
   "cell_type": "markdown",
   "id": "b1253bbc",
   "metadata": {},
   "source": [
    "Make Predictions using the test set"
   ]
  },
  {
   "cell_type": "code",
   "execution_count": 11,
   "id": "c934ab01",
   "metadata": {},
   "outputs": [
    {
     "name": "stdout",
     "output_type": "stream",
     "text": [
      "(459, 60, 1)\n"
     ]
    }
   ],
   "source": [
    "# Getting the predicted stock price of 2017\n",
    "dataset_train = stock_data.iloc[:500, 1:2]\n",
    "dataset_test = stock_data.iloc[500:, 1:2]\n",
    "dataset_total = pd.concat((dataset_train, dataset_test), axis = 0)\n",
    "inputs = dataset_total[len(dataset_total) - len(dataset_test) - 60:].values\n",
    "inputs = inputs.reshape(-1,1)\n",
    "inputs = sc.transform(inputs)\n",
    "X_test = []\n",
    "for i in range(60, 519):\n",
    "    X_test.append(inputs[i-60:i, 0])\n",
    "X_test = np.array(X_test)\n",
    "X_test = np.reshape(X_test, (X_test.shape[0], X_test.shape[1], 1))\n",
    "\n",
    "print(X_test.shape)"
   ]
  },
  {
   "cell_type": "markdown",
   "id": "076008e3",
   "metadata": {},
   "source": [
    "Visualizing the results"
   ]
  },
  {
   "cell_type": "code",
   "execution_count": 13,
   "id": "b112f899",
   "metadata": {},
   "outputs": [
    {
     "name": "stdout",
     "output_type": "stream",
     "text": [
      "15/15 [==============================] - 5s 43ms/step\n"
     ]
    }
   ],
   "source": [
    "predicted_stock_price = regressor.predict(X_test)\n",
    "predicted_stock_price = sc.inverse_transform(predicted_stock_price)"
   ]
  },
  {
   "cell_type": "code",
   "execution_count": 14,
   "id": "f99aedb9",
   "metadata": {},
   "outputs": [
    {
     "data": {
      "image/png": "[encoded data removed]",
      "text/plain": [
       "<Figure size 432x288 with 1 Axes>"
      ]
     },
     "metadata": {
      "needs_background": "light"
     },
     "output_type": "display_data"
    }
   ],
   "source": [
    "plt.plot(test_set, color = 'red', label = 'Test TATA Stock Price')\n",
    "plt.plot(predicted_stock_price, color = 'blue', label = 'Predicted TATA Stock Price')\n",
    "plt.title('TATA Stock Price Prediction')\n",
    "plt.xlabel('Time')\n",
    "plt.ylabel('TATA Stock Price')\n",
    "#plt.legend()\n",
    "plt.show()"
   ]
  },
  {
   "cell_type": "code",
   "execution_count": null,
   "id": "713ac27b",
   "metadata": {},
   "outputs": [],
   "source": []
  },
  {
   "cell_type": "code",
   "execution_count": null,
   "id": "a9223d54",
   "metadata": {},
   "outputs": [],
   "source": []
  }
 ],
 "metadata": {
  "kernelspec": {
   "display_name": "Python 3 (ipykernel)",
   "language": "python",
   "name": "python3"
  },
  "language_info": {
   "codemirror_mode": {
    "name": "ipython",
    "version": 3
   },
   "file_extension": ".py",
   "mimetype": "text/x-python",
   "name": "python",
   "nbconvert_exporter": "python",
   "pygments_lexer": "ipython3",
   "version": "3.9.12"
  }
 },
 "nbformat": 4,
 "nbformat_minor": 5
}
